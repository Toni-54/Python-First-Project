{
 "cells": [
  {
   "cell_type": "markdown",
   "id": "3f9c1b20",
   "metadata": {},
   "source": [
    "Seventh taks of Numpy:Using  Fatten, Ravel and Reshape"
   ]
  },
  {
   "cell_type": "code",
   "execution_count": 1,
   "id": "9f075eb6",
   "metadata": {},
   "outputs": [],
   "source": [
    "import numpy as np"
   ]
  },
  {
   "cell_type": "code",
   "execution_count": 2,
   "id": "fc22927b",
   "metadata": {},
   "outputs": [],
   "source": [
    "arr = np.arange(1,13)"
   ]
  },
  {
   "cell_type": "code",
   "execution_count": 3,
   "id": "7024eed3",
   "metadata": {},
   "outputs": [
    {
     "data": {
      "text/plain": [
       "(12,)"
      ]
     },
     "execution_count": 3,
     "metadata": {},
     "output_type": "execute_result"
    }
   ],
   "source": [
    "arr.shape"
   ]
  },
  {
   "cell_type": "code",
   "execution_count": 4,
   "id": "c0211e63",
   "metadata": {},
   "outputs": [],
   "source": [
    "arr1 = arr.reshape(3,4)"
   ]
  },
  {
   "cell_type": "code",
   "execution_count": 5,
   "id": "97ff3d18",
   "metadata": {},
   "outputs": [
    {
     "data": {
      "text/plain": [
       "(3, 4)"
      ]
     },
     "execution_count": 5,
     "metadata": {},
     "output_type": "execute_result"
    }
   ],
   "source": [
    "arr1.shape"
   ]
  },
  {
   "cell_type": "code",
   "execution_count": 6,
   "id": "5626b27d",
   "metadata": {},
   "outputs": [
    {
     "data": {
      "text/plain": [
       "array([[ 1,  2,  3,  4,  5,  6],\n",
       "       [ 7,  8,  9, 10, 11, 12]])"
      ]
     },
     "execution_count": 6,
     "metadata": {},
     "output_type": "execute_result"
    }
   ],
   "source": [
    "arr1.reshape(2,6)"
   ]
  },
  {
   "cell_type": "markdown",
   "id": "ce5e013f",
   "metadata": {},
   "source": [
    "Fatten and Ravel on a Array"
   ]
  },
  {
   "cell_type": "code",
   "execution_count": 7,
   "id": "83e103fc",
   "metadata": {},
   "outputs": [],
   "source": [
    "arr2 = np.array([\n",
    " [3,6,8,9,5],\n",
    " [2,7,4,1,0]\n",
    "])"
   ]
  },
  {
   "cell_type": "code",
   "execution_count": 8,
   "id": "825e6a90",
   "metadata": {},
   "outputs": [
    {
     "name": "stdout",
     "output_type": "stream",
     "text": [
      "[[3 6 8 9 5]\n",
      " [2 7 4 1 0]]\n"
     ]
    }
   ],
   "source": [
    "print(arr2)\n",
    "\n"
   ]
  },
  {
   "cell_type": "code",
   "execution_count": 9,
   "id": "b5a1f1db",
   "metadata": {},
   "outputs": [],
   "source": [
    "ravel_arr = arr2.ravel()"
   ]
  },
  {
   "cell_type": "code",
   "execution_count": 10,
   "id": "595fc161",
   "metadata": {},
   "outputs": [
    {
     "data": {
      "text/plain": [
       "array([3, 6, 8, 9, 5, 2, 7, 4, 1, 0])"
      ]
     },
     "execution_count": 10,
     "metadata": {},
     "output_type": "execute_result"
    }
   ],
   "source": [
    "ravel_arr"
   ]
  },
  {
   "cell_type": "code",
   "execution_count": 11,
   "id": "0c56f27b",
   "metadata": {},
   "outputs": [],
   "source": [
    "ravel_arr[0] = 100"
   ]
  },
  {
   "cell_type": "code",
   "execution_count": 12,
   "id": "187f6475",
   "metadata": {},
   "outputs": [
    {
     "data": {
      "text/plain": [
       "array([100,   6,   8,   9,   5,   2,   7,   4,   1,   0])"
      ]
     },
     "execution_count": 12,
     "metadata": {},
     "output_type": "execute_result"
    }
   ],
   "source": [
    "ravel_arr"
   ]
  },
  {
   "cell_type": "code",
   "execution_count": 13,
   "id": "31ffe777",
   "metadata": {},
   "outputs": [
    {
     "data": {
      "text/plain": [
       "array([[100,   6,   8,   9,   5],\n",
       "       [  2,   7,   4,   1,   0]])"
      ]
     },
     "execution_count": 13,
     "metadata": {},
     "output_type": "execute_result"
    }
   ],
   "source": [
    "arr2"
   ]
  },
  {
   "cell_type": "markdown",
   "id": "cde04f80",
   "metadata": {},
   "source": [
    "Ravel converts any arrays into a 1D array and what we modify in it, it modifies in the original array too and makes a  view of it....."
   ]
  },
  {
   "cell_type": "code",
   "execution_count": 14,
   "id": "0761c0b3",
   "metadata": {},
   "outputs": [],
   "source": [
    "flatten_arr = arr2.flatten()"
   ]
  },
  {
   "cell_type": "code",
   "execution_count": 15,
   "id": "573721aa",
   "metadata": {},
   "outputs": [
    {
     "name": "stdout",
     "output_type": "stream",
     "text": [
      "[100   6   8   9   5   2   7   4   1   0]\n"
     ]
    }
   ],
   "source": [
    "print(flatten_arr)"
   ]
  },
  {
   "cell_type": "code",
   "execution_count": 16,
   "id": "0b096aba",
   "metadata": {},
   "outputs": [],
   "source": [
    "flatten_arr[2] = 60"
   ]
  },
  {
   "cell_type": "code",
   "execution_count": 17,
   "id": "d3ecb76c",
   "metadata": {},
   "outputs": [
    {
     "data": {
      "text/plain": [
       "array([100,   6,  60,   9,   5,   2,   7,   4,   1,   0])"
      ]
     },
     "execution_count": 17,
     "metadata": {},
     "output_type": "execute_result"
    }
   ],
   "source": [
    "flatten_arr"
   ]
  },
  {
   "cell_type": "code",
   "execution_count": 18,
   "id": "cab7ddc6",
   "metadata": {},
   "outputs": [
    {
     "data": {
      "text/plain": [
       "array([[100,   6,   8,   9,   5],\n",
       "       [  2,   7,   4,   1,   0]])"
      ]
     },
     "execution_count": 18,
     "metadata": {},
     "output_type": "execute_result"
    }
   ],
   "source": [
    "arr2"
   ]
  },
  {
   "cell_type": "markdown",
   "id": "94551667",
   "metadata": {},
   "source": [
    "Flatten also converts any arrays into 1D array but what we modify in it, it makes a copy of the original array changes nothin init....\n"
   ]
  },
  {
   "cell_type": "markdown",
   "id": "88e01f36",
   "metadata": {},
   "source": [
    "The Given Array"
   ]
  },
  {
   "cell_type": "code",
   "execution_count": 19,
   "id": "39e32199",
   "metadata": {},
   "outputs": [],
   "source": [
    "arr = np.arange(1,10).reshape(3,3)"
   ]
  },
  {
   "cell_type": "code",
   "execution_count": 20,
   "id": "ccdfe976",
   "metadata": {},
   "outputs": [
    {
     "data": {
      "text/plain": [
       "array([[1, 2, 3],\n",
       "       [4, 5, 6],\n",
       "       [7, 8, 9]])"
      ]
     },
     "execution_count": 20,
     "metadata": {},
     "output_type": "execute_result"
    }
   ],
   "source": [
    "arr"
   ]
  },
  {
   "cell_type": "code",
   "execution_count": 21,
   "id": "d38f8be4",
   "metadata": {},
   "outputs": [],
   "source": [
    "flat_arr = arr.flatten()"
   ]
  },
  {
   "cell_type": "code",
   "execution_count": 22,
   "id": "aa745bd1",
   "metadata": {},
   "outputs": [
    {
     "data": {
      "text/plain": [
       "array([1, 2, 3, 4, 5, 6, 7, 8, 9])"
      ]
     },
     "execution_count": 22,
     "metadata": {},
     "output_type": "execute_result"
    }
   ],
   "source": [
    "flat_arr"
   ]
  },
  {
   "cell_type": "code",
   "execution_count": 23,
   "id": "ef60214e",
   "metadata": {},
   "outputs": [],
   "source": [
    "rave_arr = arr.ravel()"
   ]
  },
  {
   "cell_type": "code",
   "execution_count": 24,
   "id": "8b8b37a2",
   "metadata": {},
   "outputs": [
    {
     "data": {
      "text/plain": [
       "array([1, 2, 3, 4, 5, 6, 7, 8, 9])"
      ]
     },
     "execution_count": 24,
     "metadata": {},
     "output_type": "execute_result"
    }
   ],
   "source": [
    "rave_arr"
   ]
  },
  {
   "cell_type": "code",
   "execution_count": null,
   "id": "8095ac6e",
   "metadata": {},
   "outputs": [],
   "source": []
  }
 ],
 "metadata": {
  "kernelspec": {
   "display_name": "Python 3",
   "language": "python",
   "name": "python3"
  },
  "language_info": {
   "codemirror_mode": {
    "name": "ipython",
    "version": 3
   },
   "file_extension": ".py",
   "mimetype": "text/x-python",
   "name": "python",
   "nbconvert_exporter": "python",
   "pygments_lexer": "ipython3",
   "version": "3.12.10"
  }
 },
 "nbformat": 4,
 "nbformat_minor": 5
}
