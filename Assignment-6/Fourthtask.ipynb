{
 "cells": [
  {
   "cell_type": "markdown",
   "id": "0fc9cf0e",
   "metadata": {},
   "source": [
    "Fourth Task using Numpy: Indexing and Slicing "
   ]
  },
  {
   "cell_type": "code",
   "execution_count": 2,
   "id": "15d089db",
   "metadata": {},
   "outputs": [],
   "source": [
    "import numpy as np"
   ]
  },
  {
   "cell_type": "code",
   "execution_count": 3,
   "id": "92f42df1",
   "metadata": {},
   "outputs": [],
   "source": [
    "arr = np.array([\n",
    " [10, 20, 30, 40],\n",
    " [50, 60, 70, 80],\n",
    " [90, 100, 110, 120]\n",
    "])"
   ]
  },
  {
   "cell_type": "code",
   "execution_count": 4,
   "id": "3363eac0",
   "metadata": {},
   "outputs": [
    {
     "data": {
      "text/plain": [
       "array([[ 10,  20,  30,  40],\n",
       "       [ 50,  60,  70,  80],\n",
       "       [ 90, 100, 110, 120]])"
      ]
     },
     "execution_count": 4,
     "metadata": {},
     "output_type": "execute_result"
    }
   ],
   "source": [
    "arr\n"
   ]
  },
  {
   "cell_type": "code",
   "execution_count": 5,
   "id": "81300219",
   "metadata": {},
   "outputs": [
    {
     "name": "stdout",
     "output_type": "stream",
     "text": [
      "Extract Second Row:\n",
      " [50 60 70 80]\n"
     ]
    }
   ],
   "source": [
    "print(\"Extract Second Row:\\n\", arr[1])"
   ]
  },
  {
   "cell_type": "code",
   "execution_count": 6,
   "id": "69c58cd4",
   "metadata": {},
   "outputs": [
    {
     "name": "stdout",
     "output_type": "stream",
     "text": [
      "Extract first two rows and second two columns:\n",
      " [[30 40]\n",
      " [70 80]]\n"
     ]
    }
   ],
   "source": [
    "print(\"Extract first two rows and second two columns:\\n\", arr[:2, 2:])"
   ]
  },
  {
   "cell_type": "code",
   "execution_count": 7,
   "id": "ef7cbdba",
   "metadata": {},
   "outputs": [
    {
     "name": "stdout",
     "output_type": "stream",
     "text": [
      "Extract the last column:\n",
      "[ 40  80 120]\n"
     ]
    }
   ],
   "source": [
    "print(f\"Extract the last column:\\n{arr[:,-1]}\")"
   ]
  },
  {
   "cell_type": "code",
   "execution_count": 8,
   "id": "59d9c265",
   "metadata": {},
   "outputs": [],
   "source": [
    "arr[1] = [1,2,3,4]"
   ]
  },
  {
   "cell_type": "code",
   "execution_count": 9,
   "id": "faf751fb",
   "metadata": {},
   "outputs": [
    {
     "name": "stdout",
     "output_type": "stream",
     "text": [
      "After replacing Middle Row:\n",
      " [[ 10  20  30  40]\n",
      " [  1   2   3   4]\n",
      " [ 90 100 110 120]]\n"
     ]
    }
   ],
   "source": [
    "print(\"After replacing Middle Row:\\n\", arr)"
   ]
  },
  {
   "cell_type": "code",
   "execution_count": null,
   "id": "d7dcd6ab",
   "metadata": {},
   "outputs": [],
   "source": []
  }
 ],
 "metadata": {
  "kernelspec": {
   "display_name": "Python 3",
   "language": "python",
   "name": "python3"
  },
  "language_info": {
   "codemirror_mode": {
    "name": "ipython",
    "version": 3
   },
   "file_extension": ".py",
   "mimetype": "text/x-python",
   "name": "python",
   "nbconvert_exporter": "python",
   "pygments_lexer": "ipython3",
   "version": "3.12.10"
  }
 },
 "nbformat": 4,
 "nbformat_minor": 5
}
