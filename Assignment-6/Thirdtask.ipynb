{
 "cells": [
  {
   "cell_type": "markdown",
   "id": "8507a74c",
   "metadata": {},
   "source": [
    "Third task of Numpy: Working with the Numpy Built-in functions "
   ]
  },
  {
   "cell_type": "code",
   "execution_count": 1,
   "id": "a36a96eb",
   "metadata": {},
   "outputs": [],
   "source": [
    "import numpy as np"
   ]
  },
  {
   "cell_type": "markdown",
   "id": "3d59fb2e",
   "metadata": {},
   "source": [
    "A zeros matxix"
   ]
  },
  {
   "cell_type": "code",
   "execution_count": 2,
   "id": "327e34b5",
   "metadata": {},
   "outputs": [],
   "source": [
    "zero_array = np.zeros((4,4))"
   ]
  },
  {
   "cell_type": "code",
   "execution_count": 3,
   "id": "1af84c5e",
   "metadata": {},
   "outputs": [
    {
     "name": "stdout",
     "output_type": "stream",
     "text": [
      "A Zeros Matrix:\n",
      " [[0. 0. 0. 0.]\n",
      " [0. 0. 0. 0.]\n",
      " [0. 0. 0. 0.]\n",
      " [0. 0. 0. 0.]]\n"
     ]
    }
   ],
   "source": [
    "print(\"A Zeros Matrix:\\n\", zero_array)"
   ]
  },
  {
   "cell_type": "markdown",
   "id": "2f87f7eb",
   "metadata": {},
   "source": [
    "A ones Matrix"
   ]
  },
  {
   "cell_type": "code",
   "execution_count": 4,
   "id": "dec3e0bf",
   "metadata": {},
   "outputs": [],
   "source": [
    "one_array = np.ones((3,2))"
   ]
  },
  {
   "cell_type": "code",
   "execution_count": 5,
   "id": "4b028bd4",
   "metadata": {},
   "outputs": [
    {
     "name": "stdout",
     "output_type": "stream",
     "text": [
      "A ones matrix:\n",
      "[[1. 1.]\n",
      " [1. 1.]\n",
      " [1. 1.]]\n"
     ]
    }
   ],
   "source": [
    "print(f\"A ones matrix:\\n{one_array}\")"
   ]
  },
  {
   "cell_type": "markdown",
   "id": "04e5c454",
   "metadata": {},
   "source": [
    "Identify "
   ]
  },
  {
   "cell_type": "code",
   "execution_count": 6,
   "id": "d6729e8b",
   "metadata": {},
   "outputs": [],
   "source": [
    "ident_array = np.eye(5,5)"
   ]
  },
  {
   "cell_type": "code",
   "execution_count": 7,
   "id": "76939dc5",
   "metadata": {},
   "outputs": [
    {
     "name": "stdout",
     "output_type": "stream",
     "text": [
      "Identify Martxix:\n",
      "[[1. 0. 0. 0. 0.]\n",
      " [0. 1. 0. 0. 0.]\n",
      " [0. 0. 1. 0. 0.]\n",
      " [0. 0. 0. 1. 0.]\n",
      " [0. 0. 0. 0. 1.]]\n"
     ]
    }
   ],
   "source": [
    "print(f\"Identify Martxix:\\n{ident_array}\")"
   ]
  },
  {
   "cell_type": "markdown",
   "id": "b5b94dd0",
   "metadata": {},
   "source": [
    "Seven Filled "
   ]
  },
  {
   "cell_type": "code",
   "execution_count": 8,
   "id": "41a10459",
   "metadata": {},
   "outputs": [],
   "source": [
    "seven_array = np.full((3,3), 7)"
   ]
  },
  {
   "cell_type": "code",
   "execution_count": 9,
   "id": "2518c687",
   "metadata": {},
   "outputs": [
    {
     "name": "stdout",
     "output_type": "stream",
     "text": [
      "The Seven filled Matrix:\n",
      " [[7 7 7]\n",
      " [7 7 7]\n",
      " [7 7 7]]\n"
     ]
    }
   ],
   "source": [
    "print(\"The Seven filled Matrix:\\n\", seven_array)"
   ]
  },
  {
   "cell_type": "markdown",
   "id": "8e237e51",
   "metadata": {},
   "source": [
    "Random 3x4 Matrix"
   ]
  },
  {
   "cell_type": "code",
   "execution_count": 10,
   "id": "2472eba3",
   "metadata": {},
   "outputs": [],
   "source": [
    "rand_array = np.random.randint(10,99, size=(3,4))"
   ]
  },
  {
   "cell_type": "code",
   "execution_count": 11,
   "id": "559443af",
   "metadata": {},
   "outputs": [
    {
     "name": "stdout",
     "output_type": "stream",
     "text": [
      "A 3x4 matrix:\n",
      "[[48 11 10 85]\n",
      " [65 96 82 12]\n",
      " [89 32 18 14]]\n"
     ]
    }
   ],
   "source": [
    "print(f\"A 3x4 matrix:\\n{rand_array}\")"
   ]
  },
  {
   "cell_type": "markdown",
   "id": "ead83ebb",
   "metadata": {},
   "source": [
    "5 Step Matrix"
   ]
  },
  {
   "cell_type": "code",
   "execution_count": 12,
   "id": "e19c0dbe",
   "metadata": {},
   "outputs": [],
   "source": [
    "range_array = np.arange(5, 50, 5).reshape(3,3)"
   ]
  },
  {
   "cell_type": "code",
   "execution_count": 13,
   "id": "b516bcd4",
   "metadata": {},
   "outputs": [
    {
     "name": "stdout",
     "output_type": "stream",
     "text": [
      "Range Matrix:\n",
      " [[ 5 10 15]\n",
      " [20 25 30]\n",
      " [35 40 45]]\n"
     ]
    }
   ],
   "source": [
    "print(\"Range Matrix:\\n\", range_array)"
   ]
  },
  {
   "cell_type": "code",
   "execution_count": null,
   "id": "a888c2c4",
   "metadata": {},
   "outputs": [],
   "source": []
  }
 ],
 "metadata": {
  "kernelspec": {
   "display_name": "Python 3",
   "language": "python",
   "name": "python3"
  },
  "language_info": {
   "codemirror_mode": {
    "name": "ipython",
    "version": 3
   },
   "file_extension": ".py",
   "mimetype": "text/x-python",
   "name": "python",
   "nbconvert_exporter": "python",
   "pygments_lexer": "ipython3",
   "version": "3.12.10"
  }
 },
 "nbformat": 4,
 "nbformat_minor": 5
}
