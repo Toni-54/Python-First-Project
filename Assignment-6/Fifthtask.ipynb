{
 "cells": [
  {
   "cell_type": "markdown",
   "id": "c0a57d52",
   "metadata": {},
   "source": [
    "Fifth task of Numpy: Vectorization "
   ]
  },
  {
   "cell_type": "code",
   "execution_count": 43,
   "id": "cb188a99",
   "metadata": {},
   "outputs": [],
   "source": [
    "import numpy as np"
   ]
  },
  {
   "cell_type": "code",
   "execution_count": 44,
   "id": "42d84092",
   "metadata": {},
   "outputs": [],
   "source": [
    "A = np.random.randint(5,20,5)\n",
    "B = np.random.randint(40,50,5)\n"
   ]
  },
  {
   "cell_type": "code",
   "execution_count": 45,
   "id": "dea1a796",
   "metadata": {},
   "outputs": [
    {
     "name": "stdout",
     "output_type": "stream",
     "text": [
      "Array A: [19  9  7 18  9]\n",
      "Array B: [42 49 49 49 44]\n"
     ]
    }
   ],
   "source": [
    "print(\"Array A:\", A)\n",
    "print(\"Array B:\", B)"
   ]
  },
  {
   "cell_type": "code",
   "execution_count": 46,
   "id": "fcb543c3",
   "metadata": {},
   "outputs": [
    {
     "name": "stdout",
     "output_type": "stream",
     "text": [
      "Addition: [61 58 56 67 53]\n",
      "Subtraction: [-23 -40 -42 -31 -35]\n",
      "Multiplication: [798 441 343 882 396]\n",
      "Division: [0.45238095 0.18367347 0.14285714 0.36734694 0.20454545]\n"
     ]
    }
   ],
   "source": [
    "print(\"Addition:\", A + B)\n",
    "print(\"Subtraction:\", A - B)\n",
    "print(\"Multiplication:\", A * B) \n",
    "print(\"Division:\", A / B)"
   ]
  },
  {
   "cell_type": "markdown",
   "id": "01beddc3",
   "metadata": {},
   "source": [
    "Step 2: Sqaure Root, Exponent and Sine operations "
   ]
  },
  {
   "cell_type": "code",
   "execution_count": 47,
   "id": "4b523bdc",
   "metadata": {},
   "outputs": [],
   "source": [
    "# arr = np.array([5,6,4,3,2])"
   ]
  },
  {
   "cell_type": "code",
   "execution_count": 48,
   "id": "c0efd881",
   "metadata": {},
   "outputs": [],
   "source": [
    "sqrt_arr = np.sqrt(A)"
   ]
  },
  {
   "cell_type": "code",
   "execution_count": 49,
   "id": "9b3455e6",
   "metadata": {},
   "outputs": [],
   "source": [
    "expo_arr = np.exp(A)"
   ]
  },
  {
   "cell_type": "code",
   "execution_count": 50,
   "id": "2f8b095c",
   "metadata": {},
   "outputs": [],
   "source": [
    "sine_arr = np.sin(A)"
   ]
  },
  {
   "cell_type": "code",
   "execution_count": 52,
   "id": "a91db837",
   "metadata": {},
   "outputs": [
    {
     "name": "stdout",
     "output_type": "stream",
     "text": [
      "Square Roots:\n",
      " [4.35889894 3.         2.64575131 4.24264069 3.        ]\n",
      "Exponential:\n",
      " [1.78482301e+08 8.10308393e+03 1.09663316e+03 6.56599691e+07\n",
      " 8.10308393e+03]\n",
      "Sine:\n",
      " [ 0.14987721  0.41211849  0.6569866  -0.75098725  0.41211849]\n"
     ]
    }
   ],
   "source": [
    "print(\"Square Roots:\\n\", sqrt_arr)\n",
    "print(\"Exponential:\\n\", expo_arr)\n",
    "print(\"Sine:\\n\", sine_arr)"
   ]
  },
  {
   "cell_type": "markdown",
   "id": "a55b5c2f",
   "metadata": {},
   "source": [
    "Fahrenheit in Numpy Vectorization"
   ]
  },
  {
   "cell_type": "code",
   "execution_count": 57,
   "id": "61c14414",
   "metadata": {},
   "outputs": [],
   "source": [
    "calcius  = np.array([20,54,67,90,87,56,43,98,40,30])"
   ]
  },
  {
   "cell_type": "code",
   "execution_count": 61,
   "id": "26f3c1f8",
   "metadata": {},
   "outputs": [],
   "source": [
    "fahrenheit = ( calcius * 9/5) + 32\n"
   ]
  },
  {
   "cell_type": "code",
   "execution_count": 62,
   "id": "ca090967",
   "metadata": {},
   "outputs": [
    {
     "name": "stdout",
     "output_type": "stream",
     "text": [
      "celsius: [20 54 67 90 87 56 43 98 40 30]\n",
      "fahrenheit: [ 68.  129.2 152.6 194.  188.6 132.8 109.4 208.4 104.   86. ]\n"
     ]
    }
   ],
   "source": [
    "print(\"celsius:\", calcius)\n",
    "print(\"fahrenheit:\", fahrenheit)\n"
   ]
  }
 ],
 "metadata": {
  "kernelspec": {
   "display_name": "Python 3",
   "language": "python",
   "name": "python3"
  },
  "language_info": {
   "codemirror_mode": {
    "name": "ipython",
    "version": 3
   },
   "file_extension": ".py",
   "mimetype": "text/x-python",
   "name": "python",
   "nbconvert_exporter": "python",
   "pygments_lexer": "ipython3",
   "version": "3.12.10"
  }
 },
 "nbformat": 4,
 "nbformat_minor": 5
}
