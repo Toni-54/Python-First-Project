{
 "cells": [
  {
   "cell_type": "markdown",
   "id": "e98e89ea",
   "metadata": {},
   "source": [
    "Second task of Numpy: Array Creation and Data types"
   ]
  },
  {
   "cell_type": "code",
   "execution_count": 2,
   "id": "b0eb9730",
   "metadata": {},
   "outputs": [],
   "source": [
    "import numpy as np"
   ]
  },
  {
   "cell_type": "code",
   "execution_count": 3,
   "id": "f4e1b0fa",
   "metadata": {},
   "outputs": [],
   "source": [
    "array_1d = np.arange(1,10)"
   ]
  },
  {
   "cell_type": "code",
   "execution_count": 4,
   "id": "a8d73520",
   "metadata": {},
   "outputs": [
    {
     "name": "stdout",
     "output_type": "stream",
     "text": [
      "Created a 1D array:\n",
      " [1 2 3 4 5 6 7 8 9]\n"
     ]
    }
   ],
   "source": [
    "print(\"Created a 1D array:\\n\", array_1d)"
   ]
  },
  {
   "cell_type": "markdown",
   "id": "f71c271b",
   "metadata": {},
   "source": [
    "creating a 2D array"
   ]
  },
  {
   "cell_type": "code",
   "execution_count": 7,
   "id": "5f30d4e2",
   "metadata": {},
   "outputs": [],
   "source": [
    "array_2d = np.arange(0,9).reshape(3,3)"
   ]
  },
  {
   "cell_type": "code",
   "execution_count": 8,
   "id": "f1fb5522",
   "metadata": {},
   "outputs": [
    {
     "name": "stdout",
     "output_type": "stream",
     "text": [
      "Created a 2D array:\n",
      " [[0 1 2]\n",
      " [3 4 5]\n",
      " [6 7 8]]\n"
     ]
    }
   ],
   "source": [
    "print(\"Created a 2D array:\\n\", array_2d)"
   ]
  },
  {
   "cell_type": "code",
   "execution_count": 17,
   "id": "48154548",
   "metadata": {},
   "outputs": [
    {
     "name": "stdout",
     "output_type": "stream",
     "text": [
      "1D Array details: \n",
      "Dimentions: 1\n",
      "Shape: (9,)\n",
      "Size: 9\n",
      "Data Type: int64\n",
      "Size of each element: 8\n"
     ]
    }
   ],
   "source": [
    "print(\"1D Array details: \")\n",
    "print(\"Dimentions:\", array_1d.ndim)\n",
    "print(\"Shape:\",array_1d.shape)\n",
    "print(\"Size:\", array_1d.size)\n",
    "print(\"Data Type:\", array_1d.dtype)\n",
    "print(\"Size of each element:\", array_1d.itemsize)"
   ]
  },
  {
   "cell_type": "code",
   "execution_count": 23,
   "id": "199f90bf",
   "metadata": {},
   "outputs": [
    {
     "name": "stdout",
     "output_type": "stream",
     "text": [
      "2D Array details: \n",
      "Dimentions: 2\n",
      "Shape: (3, 3)\n",
      "Size: 9\n",
      "Data Type: int64\n",
      "Size of each element: 8\n"
     ]
    }
   ],
   "source": [
    "print(\"2D Array details: \")\n",
    "print(\"Dimentions:\", array_2d.ndim)\n",
    "print(\"Shape:\",array_2d.shape)\n",
    "print(\"Size:\", array_2d.size)\n",
    "print(\"Data Type:\", array_2d.dtype)\n",
    "print(\"Size of each element:\", array_2d.itemsize)"
   ]
  },
  {
   "cell_type": "code",
   "execution_count": 24,
   "id": "373e8b66",
   "metadata": {},
   "outputs": [],
   "source": [
    "flo_array = np.array([\n",
    " [1.2, 4.0,3.2],\n",
    " [2.0, 0.1, 5.0],\n",
    " [4.4,5.8,6.1]\n",
    "])"
   ]
  },
  {
   "cell_type": "code",
   "execution_count": 25,
   "id": "4544c395",
   "metadata": {},
   "outputs": [
    {
     "name": "stdout",
     "output_type": "stream",
     "text": [
      "Float Array:\n",
      "[[1.2 4.  3.2]\n",
      " [2.  0.1 5. ]\n",
      " [4.4 5.8 6.1]]\n"
     ]
    }
   ],
   "source": [
    "print(f\"Float Array:\\n{flo_array}\")"
   ]
  },
  {
   "cell_type": "code",
   "execution_count": 26,
   "id": "a13f167f",
   "metadata": {},
   "outputs": [
    {
     "data": {
      "text/plain": [
       "dtype('float64')"
      ]
     },
     "execution_count": 26,
     "metadata": {},
     "output_type": "execute_result"
    }
   ],
   "source": [
    "flo_array.dtype"
   ]
  },
  {
   "cell_type": "markdown",
   "id": "d871ea04",
   "metadata": {},
   "source": [
    "Now converting a float array into an integar array"
   ]
  },
  {
   "cell_type": "code",
   "execution_count": 22,
   "id": "f69d6e71",
   "metadata": {},
   "outputs": [],
   "source": [
    "int_array = flo_array.astype(int)"
   ]
  },
  {
   "cell_type": "code",
   "execution_count": 15,
   "id": "9fd68af0",
   "metadata": {},
   "outputs": [
    {
     "name": "stdout",
     "output_type": "stream",
     "text": [
      "Integar array:\n",
      "[[1 4 3]\n",
      " [2 0 5]\n",
      " [4 5 6]]\n"
     ]
    }
   ],
   "source": [
    "print(f\"Integar array:\\n{int_array}\")"
   ]
  },
  {
   "cell_type": "code",
   "execution_count": 16,
   "id": "c93aa136",
   "metadata": {},
   "outputs": [
    {
     "data": {
      "text/plain": [
       "dtype('int64')"
      ]
     },
     "execution_count": 16,
     "metadata": {},
     "output_type": "execute_result"
    }
   ],
   "source": [
    "int_array.dtype"
   ]
  }
 ],
 "metadata": {
  "kernelspec": {
   "display_name": "Python 3",
   "language": "python",
   "name": "python3"
  },
  "language_info": {
   "codemirror_mode": {
    "name": "ipython",
    "version": 3
   },
   "file_extension": ".py",
   "mimetype": "text/x-python",
   "name": "python",
   "nbconvert_exporter": "python",
   "pygments_lexer": "ipython3",
   "version": "3.12.10"
  }
 },
 "nbformat": 4,
 "nbformat_minor": 5
}
