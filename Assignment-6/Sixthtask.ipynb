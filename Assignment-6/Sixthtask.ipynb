{
 "cells": [
  {
   "cell_type": "markdown",
   "id": "971a745b",
   "metadata": {},
   "source": [
    "Sixth Task of Numpy: Broadcasting "
   ]
  },
  {
   "cell_type": "code",
   "execution_count": 1,
   "id": "867b3739",
   "metadata": {},
   "outputs": [],
   "source": [
    "import numpy as np"
   ]
  },
  {
   "cell_type": "code",
   "execution_count": 2,
   "id": "54c3f53a",
   "metadata": {},
   "outputs": [],
   "source": [
    "arr = np.array([\n",
    " [3,5,9],\n",
    " [2,4,6],\n",
    " [1,7,8]\n",
    "])"
   ]
  },
  {
   "cell_type": "code",
   "execution_count": 3,
   "id": "38c1c3a6",
   "metadata": {},
   "outputs": [
    {
     "data": {
      "text/plain": [
       "(3, 3)"
      ]
     },
     "execution_count": 3,
     "metadata": {},
     "output_type": "execute_result"
    }
   ],
   "source": [
    "arr.shape"
   ]
  },
  {
   "cell_type": "markdown",
   "id": "e2812943",
   "metadata": {},
   "source": [
    "Adding a scaler Value that is 10 here"
   ]
  },
  {
   "cell_type": "code",
   "execution_count": 4,
   "id": "15b05aaa",
   "metadata": {},
   "outputs": [],
   "source": [
    "add_num = arr + 10"
   ]
  },
  {
   "cell_type": "code",
   "execution_count": 5,
   "id": "4e098914",
   "metadata": {},
   "outputs": [
    {
     "data": {
      "text/plain": [
       "(3, 3)"
      ]
     },
     "execution_count": 5,
     "metadata": {},
     "output_type": "execute_result"
    }
   ],
   "source": [
    "add_num.shape"
   ]
  },
  {
   "cell_type": "code",
   "execution_count": 6,
   "id": "61662655",
   "metadata": {},
   "outputs": [
    {
     "data": {
      "text/plain": [
       "array([[13, 15, 19],\n",
       "       [12, 14, 16],\n",
       "       [11, 17, 18]])"
      ]
     },
     "execution_count": 6,
     "metadata": {},
     "output_type": "execute_result"
    }
   ],
   "source": [
    "add_num "
   ]
  },
  {
   "cell_type": "markdown",
   "id": "66fb2082",
   "metadata": {},
   "source": [
    "Row Broadcasting "
   ]
  },
  {
   "cell_type": "code",
   "execution_count": 7,
   "id": "c6fae2a4",
   "metadata": {},
   "outputs": [],
   "source": [
    "row = np.array([1,2,3])"
   ]
  },
  {
   "cell_type": "code",
   "execution_count": 8,
   "id": "d40dfbdc",
   "metadata": {},
   "outputs": [],
   "source": [
    "broad_row = arr + row"
   ]
  },
  {
   "cell_type": "code",
   "execution_count": 9,
   "id": "bc55a400",
   "metadata": {},
   "outputs": [
    {
     "data": {
      "text/plain": [
       "(3, 3)"
      ]
     },
     "execution_count": 9,
     "metadata": {},
     "output_type": "execute_result"
    }
   ],
   "source": [
    "broad_row.shape"
   ]
  },
  {
   "cell_type": "code",
   "execution_count": 10,
   "id": "11dfd981",
   "metadata": {},
   "outputs": [
    {
     "data": {
      "text/plain": [
       "array([[ 4,  7, 12],\n",
       "       [ 3,  6,  9],\n",
       "       [ 2,  9, 11]])"
      ]
     },
     "execution_count": 10,
     "metadata": {},
     "output_type": "execute_result"
    }
   ],
   "source": [
    "broad_row"
   ]
  },
  {
   "cell_type": "code",
   "execution_count": null,
   "id": "015659fa",
   "metadata": {},
   "outputs": [],
   "source": []
  },
  {
   "cell_type": "markdown",
   "id": "5f16d188",
   "metadata": {},
   "source": [
    "Column Broadcasting"
   ]
  },
  {
   "cell_type": "code",
   "execution_count": 11,
   "id": "a1e14c79",
   "metadata": {},
   "outputs": [],
   "source": [
    "co_vec = np.array([\n",
    " [1],\n",
    " [2],\n",
    " [3]\n",
    "])"
   ]
  },
  {
   "cell_type": "code",
   "execution_count": 12,
   "id": "600e1252",
   "metadata": {},
   "outputs": [],
   "source": [
    "broad_colum = arr + co_vec"
   ]
  },
  {
   "cell_type": "code",
   "execution_count": 13,
   "id": "f6e0e243",
   "metadata": {},
   "outputs": [
    {
     "data": {
      "text/plain": [
       "(3, 3)"
      ]
     },
     "execution_count": 13,
     "metadata": {},
     "output_type": "execute_result"
    }
   ],
   "source": [
    "broad_colum.shape"
   ]
  },
  {
   "cell_type": "code",
   "execution_count": 14,
   "id": "607bbf0a",
   "metadata": {},
   "outputs": [
    {
     "data": {
      "text/plain": [
       "array([[ 4,  6, 10],\n",
       "       [ 4,  6,  8],\n",
       "       [ 4, 10, 11]])"
      ]
     },
     "execution_count": 14,
     "metadata": {},
     "output_type": "execute_result"
    }
   ],
   "source": [
    "broad_colum"
   ]
  }
 ],
 "metadata": {
  "kernelspec": {
   "display_name": "Python 3",
   "language": "python",
   "name": "python3"
  },
  "language_info": {
   "codemirror_mode": {
    "name": "ipython",
    "version": 3
   },
   "file_extension": ".py",
   "mimetype": "text/x-python",
   "name": "python",
   "nbconvert_exporter": "python",
   "pygments_lexer": "ipython3",
   "version": "3.12.10"
  }
 },
 "nbformat": 4,
 "nbformat_minor": 5
}
