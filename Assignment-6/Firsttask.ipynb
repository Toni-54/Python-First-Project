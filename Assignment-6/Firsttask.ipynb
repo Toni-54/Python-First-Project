{
 "cells": [
  {
   "cell_type": "markdown",
   "id": "6b60e8f4",
   "metadata": {},
   "source": [
    "First task of Numpy: Measuring the time taken by lists and numpy arrays"
   ]
  },
  {
   "cell_type": "code",
   "execution_count": 2,
   "id": "531e5d56",
   "metadata": {},
   "outputs": [],
   "source": [
    "import numpy as np"
   ]
  },
  {
   "cell_type": "code",
   "execution_count": 9,
   "id": "81f4fa84",
   "metadata": {},
   "outputs": [],
   "source": [
    "\n",
    "\n",
    "my_list = list(range(1,100000))\n",
    "my_array = np.array(range(1,100000))"
   ]
  },
  {
   "cell_type": "code",
   "execution_count": null,
   "id": "09f5a360",
   "metadata": {},
   "outputs": [
    {
     "name": "stdout",
     "output_type": "stream",
     "text": [
      "CPU times: total: 15.6 ms\n",
      "Wall time: 15.5 ms\n"
     ]
    }
   ],
   "source": [
    "%%time\n",
    "\n",
    "list_result = [i * 5 for i in my_list]"
   ]
  },
  {
   "cell_type": "code",
   "execution_count": 13,
   "id": "5a4c68a6",
   "metadata": {},
   "outputs": [
    {
     "name": "stdout",
     "output_type": "stream",
     "text": [
      "CPU times: total: 0 ns\n",
      "Wall time: 4.43 ms\n"
     ]
    }
   ],
   "source": [
    "%%time \n",
    "array_result = my_array * 5"
   ]
  },
  {
   "cell_type": "markdown",
   "id": "1194b952",
   "metadata": {},
   "source": [
    "Numpy arrays are faster  and efficient and the reason is that it uses vertorized operations executed  by C language, which does not need individual looping on each element to perform mathematical operations like we do in python lists."
   ]
  }
 ],
 "metadata": {
  "kernelspec": {
   "display_name": "Python 3",
   "language": "python",
   "name": "python3"
  },
  "language_info": {
   "codemirror_mode": {
    "name": "ipython",
    "version": 3
   },
   "file_extension": ".py",
   "mimetype": "text/x-python",
   "name": "python",
   "nbconvert_exporter": "python",
   "pygments_lexer": "ipython3",
   "version": "3.12.10"
  }
 },
 "nbformat": 4,
 "nbformat_minor": 5
}
