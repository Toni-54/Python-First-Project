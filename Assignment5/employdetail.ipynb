{
 "cells": [
  {
   "cell_type": "code",
   "execution_count": 2,
   "id": "e0a3c366",
   "metadata": {},
   "outputs": [],
   "source": [
    "class Employee:\n",
    "      \n",
    "\n",
    "      def __init__(self, name, salary):\n",
    "            self.__name = name\n",
    "            self.__salary = salary\n",
    "\n",
    "\n",
    "\n",
    "      # Using getter methods to access private instance attributes\n",
    "\n",
    "      def get_name(self):\n",
    "            return self.__name\n",
    "\n",
    "      def get_salary(self):\n",
    "            return self.__salary\n",
    "\n",
    "      def show_details(self):\n",
    "\n",
    "            return f\"Name: {self.__name}, Salary: {self.__salary}\""
   ]
  },
  {
   "cell_type": "code",
   "execution_count": 7,
   "id": "bc4b1ae4",
   "metadata": {},
   "outputs": [
    {
     "name": "stdout",
     "output_type": "stream",
     "text": [
      "------------------------Printing Employee Details------------------------\n",
      "Name: Ubaid, Salary: 69000\n",
      "Name: Lal Jan, Salary: 53430\n"
     ]
    }
   ],
   "source": [
    "# Here I am creating objects for the Employee class\n",
    "emp1 = Employee(\"Ubaid\", 69000)\n",
    "emp2 = Employee(\"Lal Jan\", 53430)\n",
    "\n",
    "# Accessing private attributes using getter methods\n",
    "emp1.get_name()\n",
    "emp1.get_salary()\n",
    "\n",
    "print(\"------------------------Printing Employee Details------------------------\")\n",
    "print(emp1.show_details())\n",
    "print(emp2.show_details())\n"
   ]
  }
 ],
 "metadata": {
  "kernelspec": {
   "display_name": "Python 3",
   "language": "python",
   "name": "python3"
  },
  "language_info": {
   "codemirror_mode": {
    "name": "ipython",
    "version": 3
   },
   "file_extension": ".py",
   "mimetype": "text/x-python",
   "name": "python",
   "nbconvert_exporter": "python",
   "pygments_lexer": "ipython3",
   "version": "3.12.10"
  }
 },
 "nbformat": 4,
 "nbformat_minor": 5
}
