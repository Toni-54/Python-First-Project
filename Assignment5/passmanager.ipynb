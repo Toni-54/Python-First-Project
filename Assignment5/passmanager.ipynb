{
 "cells": [
  {
   "cell_type": "code",
   "execution_count": 40,
   "id": "e5be44a9",
   "metadata": {},
   "outputs": [],
   "source": [
    "class PassManager:\n",
    "      \n",
    "      def __init__(self, username, password):\n",
    "           self.username = username\n",
    "           self.__password = password\n",
    "\n",
    "      def set_password(self, old_pwd, new_pwd):\n",
    "           if old_pwd == self.__password:\n",
    "               self.__password = new_pwd\n",
    "               return \"Password changed successfully.\"\n",
    "           else:\n",
    "               return \"Password Doesn't match!\"   \n",
    "\n",
    "\n",
    "      def ___check_username(self,name):\n",
    "           return self.username == name\n",
    "      \n",
    "     # Using the getter method to access the private method\n",
    "      def get_check_username(self,name):\n",
    "           return self.___check_username(name)\n",
    "            \n",
    "      def __check_password(self, pwd):\n",
    "           return self.__password == pwd\n",
    "\n",
    "      def get_check_password(self, pwd):\n",
    "           return self.__check_password(pwd)"
   ]
  },
  {
   "cell_type": "code",
   "execution_count": null,
   "id": "e1203733",
   "metadata": {},
   "outputs": [
    {
     "name": "stdout",
     "output_type": "stream",
     "text": [
      "------------------------Username & Password------------------------\n",
      "faryad12\n",
      "you123\n",
      "------------------------Checking the Username & Password------------------------\n",
      "True\n",
      "True\n",
      "------------------------Changing the Password------------------------\n",
      "Password changed successfully.\n",
      "True\n",
      "hehe45\n"
     ]
    }
   ],
   "source": [
    "\n",
    "pm1 = PassManager(\"faryad12\", \"you123\")\n",
    "\n",
    "print(\"------------------------Username & Password------------------------\")\n",
    "print(pm1.username) \n",
    "print(pm1._PassManager__password)\n",
    "\n",
    "print(\"------------------------Checking the Username & Password------------------------\")\n",
    "print(pm1.get_check_username(\"faryad12\"))\n",
    "print(pm1.get_check_password(\"you123\"))\n",
    "\n",
    "print(\"------------------------Changing the Password------------------------\")\n",
    "print(pm1.set_password(\"you123\", \"hehe45\"))\n",
    "print(pm1.get_check_password(\"hehe45\"))\n",
    "\n",
    "         "
   ]
  }
 ],
 "metadata": {
  "kernelspec": {
   "display_name": "Python 3",
   "language": "python",
   "name": "python3"
  },
  "language_info": {
   "codemirror_mode": {
    "name": "ipython",
    "version": 3
   },
   "file_extension": ".py",
   "mimetype": "text/x-python",
   "name": "python",
   "nbconvert_exporter": "python",
   "pygments_lexer": "ipython3",
   "version": "3.12.10"
  }
 },
 "nbformat": 4,
 "nbformat_minor": 5
}
