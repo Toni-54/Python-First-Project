{
 "cells": [
  {
   "cell_type": "code",
   "execution_count": 12,
   "id": "d9617322",
   "metadata": {},
   "outputs": [],
   "source": [
    "class Vehicle:\n",
    "   def __init__(self, brand, model):\n",
    "       self.brand = brand\n",
    "       self.model = model\n",
    "\n",
    "class Car(Vehicle):\n",
    "      def __init__(self, brand, model, seats):\n",
    "           super().__init__(brand, model)\n",
    "           self.seats = seats\n",
    "           \n"
   ]
  },
  {
   "cell_type": "code",
   "execution_count": 14,
   "id": "3aff2f3a",
   "metadata": {},
   "outputs": [
    {
     "name": "stdout",
     "output_type": "stream",
     "text": [
      "----------------Printing Cars Details-------------------\n",
      "Car 1: Suzuki Alto with 4 seats\n",
      "Car 2: Toyota Corolla with 5 seats\n"
     ]
    }
   ],
   "source": [
    "car1 = Car(\"Suzuki\", \"Alto\", 4)\n",
    "car2 = Car(\"Toyota\", \"Corolla\", 5)\n",
    "\n",
    "\n",
    "print(\"----------------Printing Cars Details-------------------\")\n",
    "print(f\"Car 1: {car1.brand} {car1.model} with {car1.seats} seats\")\n",
    "print(f\"Car 2: {car2.brand} {car2.model} with {car2.seats} seats\")\n",
    "\n",
    "\n",
    "\n",
    "\n",
    "\n"
   ]
  }
 ],
 "metadata": {
  "kernelspec": {
   "display_name": "Python 3",
   "language": "python",
   "name": "python3"
  },
  "language_info": {
   "codemirror_mode": {
    "name": "ipython",
    "version": 3
   },
   "file_extension": ".py",
   "mimetype": "text/x-python",
   "name": "python",
   "nbconvert_exporter": "python",
   "pygments_lexer": "ipython3",
   "version": "3.12.10"
  }
 },
 "nbformat": 4,
 "nbformat_minor": 5
}
