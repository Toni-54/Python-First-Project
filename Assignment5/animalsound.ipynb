{
 "cells": [
  {
   "cell_type": "code",
   "execution_count": 1,
   "id": "f1ac5d72",
   "metadata": {},
   "outputs": [],
   "source": [
    "class Animal:\n",
    "      def make_sound(self):\n",
    "          return \"All animals make sounds\"\n",
    "      \n",
    "class Dog(Animal):\n",
    "      def make_sound(self):\n",
    "          return \"Bark\""
   ]
  },
  {
   "cell_type": "code",
   "execution_count": null,
   "id": "97dbe603",
   "metadata": {},
   "outputs": [
    {
     "name": "stdout",
     "output_type": "stream",
     "text": [
      "---------------This is Where Method Overriding Happens----------------\n",
      "Bark\n"
     ]
    }
   ],
   "source": [
    "print(\"---------------This is Where Method Overriding Happens----------------\")\n",
    "print(Dog().make_sound())\n",
    "\n"
   ]
  }
 ],
 "metadata": {
  "kernelspec": {
   "display_name": "Python 3",
   "language": "python",
   "name": "python3"
  },
  "language_info": {
   "codemirror_mode": {
    "name": "ipython",
    "version": 3
   },
   "file_extension": ".py",
   "mimetype": "text/x-python",
   "name": "python",
   "nbconvert_exporter": "python",
   "pygments_lexer": "ipython3",
   "version": "3.12.10"
  }
 },
 "nbformat": 4,
 "nbformat_minor": 5
}
