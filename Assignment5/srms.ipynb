{
 "cells": [
  {
   "cell_type": "code",
   "execution_count": null,
   "id": "98fa45f9",
   "metadata": {},
   "outputs": [],
   "source": [
    "class SRMS:\n",
    "\n",
    "    def __init__(self, name, roll_no, marks):\n",
    "        self.__name = name\n",
    "        self.__roll_no = roll_no\n",
    "        self.__marks = marks\n",
    "         \n",
    "      \n",
    "    # Using getter method to access private variables\n",
    "    def get_name(self):\n",
    "        return self.__name\n",
    "    def get_roll_no(self):\n",
    "        return self.__roll_no \n",
    "    def get_marks(self):\n",
    "        return self.__marks     "
   ]
  },
  {
   "cell_type": "code",
   "execution_count": 18,
   "id": "dadd0ebd",
   "metadata": {},
   "outputs": [
    {
     "name": "stdout",
     "output_type": "stream",
     "text": [
      "------------------Student 1 Details -------------------\n",
      "Name:  Balach\n",
      "Roll No:  smit78\n",
      "Marks:  98\n",
      "------------------Student 2 Details -------------------\n",
      "Name:  Karim\n",
      "Roll No:  smit54\n",
      "Marks:  76\n",
      "------------------Student 3 Details -------------------\n",
      "Name:  Hameed\n",
      "Roll No:  smit23\n",
      "Marks:  47\n"
     ]
    }
   ],
   "source": [
    "# Creating objects of the class\n",
    "\n",
    "\n",
    "print(\"------------------Student 1 Details -------------------\")\n",
    "student1 = SRMS(\"Balach\", \"smit78\", 98)\n",
    "student2 = SRMS(\"Karim\", \"smit54\", 76)\n",
    "student3 = SRMS(\"Hameed\", \"smit23\", 47)\n",
    "\n",
    "# Printing Student 1 details\n",
    "print(\"Name: \", student1.get_name())\n",
    "print(\"Roll No: \", student1.get_roll_no())\n",
    "print(\"Marks: \", student1.get_marks())\n",
    "\n",
    "# Printing Student 2 details \n",
    "\n",
    "print(\"------------------Student 2 Details -------------------\")\n",
    "print(\"Name: \", student2.get_name())\n",
    "print(\"Roll No: \", student2.get_roll_no())\n",
    "print(\"Marks: \", student2.get_marks())\n",
    "\n",
    "# Printing Student 3 details\n",
    "print(\"------------------Student 3 Details -------------------\")\n",
    "print(\"Name: \", student3.get_name())\n",
    "print(\"Roll No: \", student3.get_roll_no())\n",
    "print(\"Marks: \", student3.get_marks())"
   ]
  }
 ],
 "metadata": {
  "kernelspec": {
   "display_name": "Python 3",
   "language": "python",
   "name": "python3"
  },
  "language_info": {
   "codemirror_mode": {
    "name": "ipython",
    "version": 3
   },
   "file_extension": ".py",
   "mimetype": "text/x-python",
   "name": "python",
   "nbconvert_exporter": "python",
   "pygments_lexer": "ipython3",
   "version": "3.12.10"
  }
 },
 "nbformat": 4,
 "nbformat_minor": 5
}
