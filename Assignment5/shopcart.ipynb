{
 "cells": [
  {
   "cell_type": "code",
   "execution_count": 7,
   "id": "7a9b150e",
   "metadata": {},
   "outputs": [],
   "source": [
    "class ShoppingCart:\n",
    "    \n",
    "      def __init__(self):\n",
    "            self.items = []\n",
    "\n",
    "      def add_item(self, item):\n",
    "            self.items.append(item)\n",
    "\n",
    "      def remove_item(self, item):\n",
    "            if item in self.items:\n",
    "                  self.items.remove(item)\n",
    "\n",
    "      def view_cart(self):\n",
    "            return self.items\n",
    "\n",
    "\n"
   ]
  },
  {
   "cell_type": "code",
   "execution_count": 8,
   "id": "46bc65cb",
   "metadata": {},
   "outputs": [
    {
     "name": "stdout",
     "output_type": "stream",
     "text": [
      "---------------List of Items---------------\n",
      "['Burger', 'Phone', 'Beer', 'Laptop', 'Chips']\n",
      "---------------After removing an item---------------\n",
      "['Burger', 'Beer', 'Laptop', 'Chips']\n"
     ]
    }
   ],
   "source": [
    "cart = ShoppingCart()\n",
    "cart.add_item(\"Burger\")\n",
    "cart.add_item(\"Phone\")\n",
    "cart.add_item(\"Beer\")\n",
    "cart.add_item(\"Laptop\")\n",
    "cart.add_item(\"Chips\")\n",
    "\n",
    "\n",
    "print(\"---------------List of Items---------------\")\n",
    "print(cart.view_cart())\n",
    "\n",
    "print(\"---------------After removing an item---------------\")\n",
    "cart.remove_item(\"Phone\")\n",
    "print(cart.view_cart())\n"
   ]
  }
 ],
 "metadata": {
  "kernelspec": {
   "display_name": "Python 3",
   "language": "python",
   "name": "python3"
  },
  "language_info": {
   "codemirror_mode": {
    "name": "ipython",
    "version": 3
   },
   "file_extension": ".py",
   "mimetype": "text/x-python",
   "name": "python",
   "nbconvert_exporter": "python",
   "pygments_lexer": "ipython3",
   "version": "3.12.10"
  }
 },
 "nbformat": 4,
 "nbformat_minor": 5
}
