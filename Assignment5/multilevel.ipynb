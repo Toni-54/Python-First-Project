{
 "cells": [
  {
   "cell_type": "code",
   "execution_count": 2,
   "id": "586b86cc",
   "metadata": {},
   "outputs": [],
   "source": [
    "class Grandparent:\n",
    "     \n",
    "\n",
    "     # Creating a instance method for the family\n",
    "     def family(self):\n",
    "         return \"Family: Rind \"\n",
    "     \n",
    "class Parent(Grandparent):\n",
    "     # Creating a instance method for the family occupation\n",
    "     def occupation(self):\n",
    "         return \"Occupation: Teacher\" \n",
    "\n",
    "class Child(Parent):\n",
    "     # Creating a instance method for the family hobby\n",
    "     def hobby(self):\n",
    "         return \"Hobby: Playing Chess\"    \n",
    "     \n"
   ]
  },
  {
   "cell_type": "code",
   "execution_count": 3,
   "id": "ea689f85",
   "metadata": {},
   "outputs": [
    {
     "name": "stdout",
     "output_type": "stream",
     "text": [
      "Family: Rind \n",
      "Occupation: Teacher\n",
      "Hobby: Playing Chess\n"
     ]
    }
   ],
   "source": [
    "# Multilevel Inheritance\n",
    "c = Child()\n",
    "print(c.family())\n",
    "print(c.occupation())\n",
    "print(c.hobby())"
   ]
  },
  {
   "cell_type": "code",
   "execution_count": null,
   "id": "c4b985dc",
   "metadata": {},
   "outputs": [],
   "source": []
  }
 ],
 "metadata": {
  "kernelspec": {
   "display_name": "Python 3",
   "language": "python",
   "name": "python3"
  },
  "language_info": {
   "codemirror_mode": {
    "name": "ipython",
    "version": 3
   },
   "file_extension": ".py",
   "mimetype": "text/x-python",
   "name": "python",
   "nbconvert_exporter": "python",
   "pygments_lexer": "ipython3",
   "version": "3.12.10"
  }
 },
 "nbformat": 4,
 "nbformat_minor": 5
}
