{
 "cells": [
  {
   "cell_type": "code",
   "execution_count": 11,
   "id": "aae72708",
   "metadata": {},
   "outputs": [],
   "source": [
    "class BankBalance:\n",
    "    \n",
    "\n",
    "    # This is a constructor \n",
    "      def __init__(self, account_no, balance):\n",
    "          self.__account_no = account_no\n",
    "          self.__balance = balance\n",
    "\n",
    "    # Using a Instance method for depositing amount \n",
    "      def deposit_amount(self,amount):\n",
    "           if amount > 0:\n",
    "                return f\"The amount: {amount} has deposited successfully!\"\n",
    "           else:\n",
    "                return f\"Invalid amount entered!\"\n",
    "    # Using another instance method for withdraw amount\n",
    "      def withdraw(self,amount):\n",
    "          if amount > 0 and self.__balance >= amount:\n",
    "               self.__balance = amount \n",
    "               print(f\"{amount} has Withdrawed!\")\n",
    "          else:    \n",
    "               print(\"Your amount is less than the entered amount\") \n",
    "\n",
    "\n",
    "      # Check method \n",
    "      def check(self):\n",
    "           return self.__balance\n",
    "\n",
    "\n",
    "           "
   ]
  },
  {
   "cell_type": "code",
   "execution_count": 12,
   "id": "3eec85a1",
   "metadata": {},
   "outputs": [
    {
     "name": "stdout",
     "output_type": "stream",
     "text": [
      "The amount: 900 has deposited successfully!\n",
      "700000 has Withdrawed!\n",
      "None\n"
     ]
    }
   ],
   "source": [
    "account = BankBalance(111299905865, 8000000)\n",
    "print(account.deposit_amount(900))\n",
    "print(account.withdraw(700000))\n",
    "\n",
    "\n"
   ]
  }
 ],
 "metadata": {
  "kernelspec": {
   "display_name": "Python 3",
   "language": "python",
   "name": "python3"
  },
  "language_info": {
   "codemirror_mode": {
    "name": "ipython",
    "version": 3
   },
   "file_extension": ".py",
   "mimetype": "text/x-python",
   "name": "python",
   "nbconvert_exporter": "python",
   "pygments_lexer": "ipython3",
   "version": "3.12.10"
  }
 },
 "nbformat": 4,
 "nbformat_minor": 5
}
