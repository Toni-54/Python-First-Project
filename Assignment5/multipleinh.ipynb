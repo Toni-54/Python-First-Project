{
 "cells": [
  {
   "cell_type": "code",
   "execution_count": 6,
   "id": "ab661816",
   "metadata": {},
   "outputs": [],
   "source": [
    "#Thi is a Father class\n",
    "\n",
    "class Father:\n",
    "      def skills(self):\n",
    "          return \"Scientist\" \n",
    "      \n",
    "#This is a Mother Class\n",
    "class Mother:\n",
    "      def skills(self):\n",
    "          return \"Freelancer\"\n",
    "      \n",
    "#This is a Child class and it inherits from Father and Mother class\n",
    "      \n",
    "class Child(Father, Mother):\n",
    "      def skills(self):\n",
    "           father_skills = Father.skills(self)\n",
    "           mother_skills = Mother.skills(self)\n",
    "\n",
    "           return father_skills + \" and \" + mother_skills\n",
    "      \n",
    "      "
   ]
  },
  {
   "cell_type": "code",
   "execution_count": 7,
   "id": "4103eb1e",
   "metadata": {},
   "outputs": [
    {
     "name": "stdout",
     "output_type": "stream",
     "text": [
      "Scientist and Freelancer\n"
     ]
    }
   ],
   "source": [
    "child = Child()\n",
    "print(child.skills())\n"
   ]
  }
 ],
 "metadata": {
  "kernelspec": {
   "display_name": "Python 3",
   "language": "python",
   "name": "python3"
  },
  "language_info": {
   "codemirror_mode": {
    "name": "ipython",
    "version": 3
   },
   "file_extension": ".py",
   "mimetype": "text/x-python",
   "name": "python",
   "nbconvert_exporter": "python",
   "pygments_lexer": "ipython3",
   "version": "3.12.10"
  }
 },
 "nbformat": 4,
 "nbformat_minor": 5
}
